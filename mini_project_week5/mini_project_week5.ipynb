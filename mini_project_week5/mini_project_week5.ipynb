{
 "cells": [
  {
   "cell_type": "markdown",
   "id": "3800205d",
   "metadata": {},
   "source": [
    "# Setup"
   ]
  },
  {
   "cell_type": "code",
   "execution_count": 26,
   "id": "cbbf60ee",
   "metadata": {},
   "outputs": [
    {
     "data": {
      "text/plain": [
       "True"
      ]
     },
     "execution_count": 26,
     "metadata": {},
     "output_type": "execute_result"
    }
   ],
   "source": [
    "import sys\n",
    "# Python 3.7 is required\n",
    "assert sys.version_info >= (3,7)\n",
    "\n",
    "import cv2 as cv\n",
    "import numpy as np\n",
    "\n",
    "# Make sure that optimization is enabled\n",
    "if not cv.useOptimized():\n",
    "    cv.setUseOptimized(True)\n",
    "\n",
    "cv.useOptimized()"
   ]
  },
  {
   "cell_type": "markdown",
   "id": "99aa0739",
   "metadata": {},
   "source": [
    "# Question 1"
   ]
  },
  {
   "cell_type": "code",
   "execution_count": 27,
   "id": "0cc97ade",
   "metadata": {},
   "outputs": [],
   "source": [
    "def crop_grid(img, num_horizontal_grid, num_vertical_grid, line_color):\n",
    "    # img is the source image\n",
    "    # num_horizontal_grid and num_vertical_grid are the number of patches along x and y axes.\n",
    "    # line_color is the color of the grid line.\n",
    "    # The output of the function should be image with grids\n",
    "    img_copy = img.copy()\n",
    "    \n",
    "    height, width = img.shape[:2]\n",
    "    \n",
    "    M, N = int(height/num_horizontal_grid), int(width/num_vertical_grid)\n",
    "    \n",
    "    x1, y1 = 0, 0\n",
    "\n",
    "    for y in range(0, height, M):\n",
    "        for x in range(0, width, N):\n",
    "    #         if (height - y) < M or (width - x) < N:\n",
    "    #             break\n",
    "\n",
    "            y1 = y + M    # lower right coordinate that will be used to construct rectangle\n",
    "            x1 = x + N\n",
    "\n",
    "            # Check whether patch lower right coordinate exceeds image height and width\n",
    "            if x1 >= width and y1 >= height:\n",
    "                x1 = width - 1\n",
    "                y1 = height - 1\n",
    "                tile = img[y:height, x:width]\n",
    "                cv.rectangle(img_copy, (x, y), (x1, y1), line_color, 1)\n",
    "            # When patch lower right y-coordinate exceeds patch height\n",
    "            elif y1 >= height:\n",
    "                y1 = height - 1\n",
    "                cv.rectangle(img_copy, (x, y), (x1, y1), line_color, 1)\n",
    "\n",
    "            # When patch lower right x-coordinate exceeds patch width\n",
    "            elif x1 >= width:\n",
    "                x1 = width - 1\n",
    "                cv.rectangle(img_copy, (x, y), (x1, y1), line_color, 1)\n",
    "\n",
    "            else:\n",
    "                cv.rectangle(img_copy, (x, y), (x1, y1), line_color, 1)\n",
    "    \n",
    "    cv.imshow('patched image', img_copy)\n",
    "    cv.waitKey(0)\n",
    "    cv.destroyAllWindows()"
   ]
  },
  {
   "cell_type": "code",
   "execution_count": 28,
   "id": "71b40a31",
   "metadata": {},
   "outputs": [],
   "source": [
    "img = cv.imread('dog.jfif')\n",
    "crop_grid(img, 2, 3, (0,255,0))"
   ]
  },
  {
   "cell_type": "markdown",
   "id": "21d3408a",
   "metadata": {},
   "source": [
    "# Question2"
   ]
  },
  {
   "cell_type": "code",
   "execution_count": 29,
   "id": "fb5653ab",
   "metadata": {},
   "outputs": [],
   "source": [
    "img1 = cv.imread('lena.jfif')\n",
    "img2 = cv.imread('coins.jfif')\n",
    "\n",
    "# Resize img2\n",
    "new_shape = img1.shape[:2]\n",
    "img2 = cv.resize(img2, new_shape)\n",
    "\n",
    "for i in range(0, 15):\n",
    "    alpha = i /10.0\n",
    "    dst = cv.addWeighted(img1, alpha, img2, 0.25, 0)\n",
    "    cv.imshow('blend_image', dst)\n",
    "    cv.waitKey(100)\n",
    "\n",
    "cv.waitKey(0)\n",
    "cv.destroyAllWindows()"
   ]
  },
  {
   "cell_type": "markdown",
   "id": "66d7f4b0",
   "metadata": {},
   "source": [
    "# Question 3"
   ]
  },
  {
   "cell_type": "code",
   "execution_count": 30,
   "id": "85534434",
   "metadata": {},
   "outputs": [],
   "source": [
    "img = cv.imread('lena.jfif')\n",
    "rows, cols = img.shape[:2]\n",
    "\n",
    "# Center coordinate\n",
    "image_center = ((cols-1)/2.0, (rows-1)/2.0)\n",
    "M = cv.getRotationMatrix2D(image_center, 45, 1)\n",
    "\n",
    "# Calculate the cos and sin, then take the absolute\n",
    "abs_cos = abs(M[0,0]) \n",
    "abs_sin = abs(M[0,1])\n",
    "\n",
    "# Calculate new width and height\n",
    "new_w = int(rows * abs_sin + cols * abs_cos)\n",
    "new_h = int(rows * abs_cos + cols * abs_sin)\n",
    "\n",
    "# Calculate new center coordinate\n",
    "M[0, 2] += new_w/2 - image_center[0]\n",
    "M[1, 2] += new_h/2 - image_center[1]\n",
    "\n",
    "dst = cv.warpAffine(img, M, (new_w, new_h))\n",
    "\n",
    "cv.imshow('rotated_image', dst)\n",
    "cv.waitKey(0)\n",
    "cv.destroyAllWindows()"
   ]
  },
  {
   "cell_type": "markdown",
   "id": "476354c4",
   "metadata": {},
   "source": [
    "# Question 4"
   ]
  },
  {
   "cell_type": "code",
   "execution_count": 31,
   "id": "c4f4c110",
   "metadata": {},
   "outputs": [],
   "source": [
    "img1 = cv.imread('native-bee.png')\n",
    "img2 = cv.imread('flower.jfif')\n",
    "\n",
    "# Convert to GRAY\n",
    "img2gray = cv.cvtColor(img2,cv.COLOR_BGR2GRAY)\n",
    "resized_img2 = np.zeros((img1.shape[0], img1.shape[1]), dtype = np.uint8)\n",
    "resized_img2[35:120, 85:175] = img2gray[35:120, 85:175]\n",
    "\n",
    "# Invert mask\n",
    "ret, mask = cv.threshold(resized_img2, 70, 255, cv.THRESH_BINARY)\n",
    "mask_inv = cv.bitwise_not(mask) \n",
    "\n",
    "# Convert to BGR and paste it into bee image\n",
    "resized_img2_rgb = cv.cvtColor(resized_img2, cv.COLOR_GRAY2BGR)\n",
    "resized_img2_rgb[35:120, 85:175] = img2[35:120, 85:175]\n",
    "\n",
    "ROI = cv.bitwise_and(img1, img1, mask = mask_inv)\n",
    "\n",
    "flower = cv.bitwise_and(resized_img2_rgb, resized_img2_rgb, mask = mask)\n",
    "\n",
    "# Place flower in ROI\n",
    "dst = cv.add(ROI, flower)\n",
    "\n",
    "cv.imshow('flower_bee', dst)\n",
    "cv.waitKey(0)\n",
    "cv.destroyAllWindows()"
   ]
  }
 ],
 "metadata": {
  "kernelspec": {
   "display_name": "Python 3",
   "language": "python",
   "name": "python3"
  }
 },
 "nbformat": 4,
 "nbformat_minor": 5
}
