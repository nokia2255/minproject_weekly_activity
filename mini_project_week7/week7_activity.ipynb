{
 "cells": [
  {
   "cell_type": "markdown",
   "id": "69d16fd1",
   "metadata": {},
   "source": [
    "# Setup"
   ]
  },
  {
   "cell_type": "code",
   "execution_count": 1,
   "id": "7ed6c749",
   "metadata": {},
   "outputs": [],
   "source": [
    "import numpy as np\n",
    "import cv2 as cv\n",
    "import matplotlib.pyplot as plt"
   ]
  },
  {
   "cell_type": "markdown",
   "id": "5676899a",
   "metadata": {},
   "source": [
    "# Question 1"
   ]
  },
  {
   "cell_type": "code",
   "execution_count": 2,
   "id": "c56504f2",
   "metadata": {},
   "outputs": [],
   "source": [
    "img = cv.imread('winter.jfif', 0)\n",
    "\n",
    "eq = cv.equalizeHist(img)\n",
    "eq2 = cv.equalizeHist(eq)\n",
    "\n",
    "cv.imshow('result', np.hstack((img, eq, eq2)))\n",
    "cv.waitKey(0)\n",
    "cv.destroyAllWindows()"
   ]
  },
  {
   "cell_type": "markdown",
   "id": "3989ab5f",
   "metadata": {},
   "source": [
    "Comment on question 1: No difference between both output"
   ]
  },
  {
   "cell_type": "markdown",
   "id": "37027e0c",
   "metadata": {},
   "source": [
    "# Question 2"
   ]
  },
  {
   "cell_type": "code",
   "execution_count": 3,
   "id": "6c44cea6",
   "metadata": {},
   "outputs": [],
   "source": [
    "img = cv.imread('electronic.jfif', 0)\n",
    "\n",
    "sobelx = cv.Sobel(img, cv.CV_64F, 1, 0, ksize = 1)\n",
    "sobely = cv.Sobel(img, cv.CV_64F, 0, 1, ksize = 1)\n",
    "\n",
    "grad_mag_L2 = cv.magnitude(sobelx, sobely)\n",
    "grad_mag_L2 = cv.convertScaleAbs(grad_mag_L2)\n",
    "\n",
    "cv.imshow('result', np.hstack((img, grad_mag_L2)))\n",
    "cv.waitKey(0)\n",
    "cv.destroyAllWindows()"
   ]
  },
  {
   "cell_type": "markdown",
   "id": "34d60a84",
   "metadata": {},
   "source": [
    "Kernel 1 size is the most appropriate because output with less noise"
   ]
  },
  {
   "cell_type": "code",
   "execution_count": 4,
   "id": "44103dad",
   "metadata": {},
   "outputs": [],
   "source": [
    "img_blur = cv.GaussianBlur(img, (5, 5), 0)\n",
    "\n",
    "sobelx_blur = cv.Sobel(img_blur, cv.CV_64F, 1, 0, ksize = 1)\n",
    "sobely_blur = cv.Sobel(img_blur, cv.CV_64F, 0, 1, ksize = 1)\n",
    "\n",
    "grad_mag_L2_blur = cv.magnitude(sobelx_blur, sobely_blur)\n",
    "grad_mag_L2_blur = cv.convertScaleAbs(grad_mag_L2_blur)\n",
    "\n",
    "cv.imshow('result', np.hstack((img, grad_mag_L2, grad_mag_L2_blur)))\n",
    "cv.waitKey(0)\n",
    "cv.destroyAllWindows()"
   ]
  },
  {
   "cell_type": "markdown",
   "id": "78142fe4",
   "metadata": {},
   "source": [
    "The noises reduced after apply Gaussian blur"
   ]
  },
  {
   "cell_type": "code",
   "execution_count": 5,
   "id": "f6373f19",
   "metadata": {},
   "outputs": [],
   "source": [
    "laplacian = cv.Laplacian(img_blur, cv.CV_64F, ksize = 3)\n",
    "\n",
    "laplacian_8u = cv.convertScaleAbs(laplacian)\n",
    "\n",
    "cv.imshow('result', laplacian_8u)\n",
    "cv.waitKey(0)\n",
    "cv.destroyAllWindows()"
   ]
  },
  {
   "cell_type": "markdown",
   "id": "20986604",
   "metadata": {},
   "source": [
    "Optimal pathway is gaussian smoothing then sobel edge detection because the output have the minimal noises."
   ]
  },
  {
   "cell_type": "markdown",
   "id": "fdb26cf6",
   "metadata": {},
   "source": [
    "# Question 3"
   ]
  },
  {
   "cell_type": "code",
   "execution_count": 6,
   "id": "597989a5",
   "metadata": {},
   "outputs": [],
   "source": [
    "img = cv.imread('pineapple.jfif', 0)\n",
    "img_blur = cv.GaussianBlur(img, (5,5), 0)\n",
    "\n",
    "# Sobel\n",
    "sobelx = cv.Sobel(img_blur, cv.CV_64F, 1,0, ksize = 3)\n",
    "sobely = cv.Sobel(img_blur, cv.CV_64F, 0,1, ksize = 3)\n",
    "blur_grad_mag_L2 = cv.magnitude(sobelx,sobely)\n",
    "blur_grad_mag_L2 = cv.convertScaleAbs(blur_grad_mag_L2)\n",
    "\n",
    "# Laplacian\n",
    "laplacian_blur = cv.Laplacian(img_blur, cv.CV_64F, ksize = 3)\n",
    "laplacian_blur = np.uint8(np.absolute(laplacian_blur))\n",
    "\n",
    "# Prewitt\n",
    "kernelx = np.array([[1,1,1],[0,0,0],[-1,-1,-1]])\n",
    "kernely = np.array([[-1,0,1],[-1,0,1],[-1,0,1]])\n",
    "img_prewittx = cv.filter2D(img_blur, -1, kernelx)\n",
    "img_prewitty = cv.filter2D(img_blur, -1, kernely)\n",
    "img_comb_prewitt = (img_prewittx + img_prewitty)\n",
    "\n",
    "# Scharr Derivatives\n",
    "scharr_X = cv.Scharr(img_blur, cv.CV_64F, 1, 0) \n",
    "scharr_X_abs = np.uint8(np.absolute(scharr_X)) \n",
    "scharr_Y = cv.Scharr(img_blur, cv.CV_64F, 0, 1) \n",
    "scharr_Y_abs = np.uint8(np.absolute(scharr_Y)) \n",
    "scharr_XY_combined = cv.bitwise_or(scharr_Y_abs,scharr_X_abs) \n",
    "\n",
    "# Canny operators\n",
    "edges = cv.Canny(img_blur, 100, 200)\n",
    "\n",
    "# Display\n",
    "cv.imshow(\"result\", np.hstack((blur_grad_mag_L2,laplacian_blur, img_comb_prewitt, scharr_XY_combined, edges)))\n",
    "cv.waitKey(0)\n",
    "cv.destroyAllWindows()"
   ]
  },
  {
   "cell_type": "markdown",
   "id": "0edf3f43",
   "metadata": {},
   "source": [
    "- Sobel: result with most edges detected\n",
    "- Laplacian: edge that is simlar contrast hard to detect\n",
    "- Prewitt:  result same as sobel but less edge detected on the same colour\n",
    "- Scharr: result with all edges detected\n",
    "- Canny: Cleanest result  \n",
    "\n",
    "# Question 4"
   ]
  },
  {
   "cell_type": "code",
   "execution_count": 7,
   "id": "6ceecf14",
   "metadata": {},
   "outputs": [],
   "source": [
    "# Read and convert image to gray\n",
    "img = cv.imread('electronic.jfif')\n",
    "img_gray = cv.cvtColor(img, cv.COLOR_BGR2GRAY) \n",
    "\n",
    "clahe = cv.createCLAHE(clipLimit = 8.0, tileGridSize = (15, 15))\n",
    "dst = clahe.apply(img_gray)\n",
    "\n",
    "# Smooth image\n",
    "blur = cv.GaussianBlur(dst, (7, 7), 0)\n",
    "ret, th = cv.threshold(blur, 180, 255, cv.THRESH_BINARY)\n",
    "\n",
    "# Find laptop contour\n",
    "contour, hierarchy = cv.findContours(th, cv.RETR_TREE, cv.CHAIN_APPROX_SIMPLE)\n",
    "\n",
    "for i in contour:\n",
    "    area = cv.contourArea(i)\n",
    "    if area >= 1000:\n",
    "        cnt = i\n",
    "        x, y, w, h = cv.boundingRect(cnt)\n",
    "        cv.rectangle(img, (x,y), (x+w, y+h), (0, 255, 0), 2)\n",
    "    else:\n",
    "        continue\n",
    "\n",
    "cv.imshow('result', img)\n",
    "cv.waitKey(0)\n",
    "cv.destroyAllWindows()"
   ]
  }
 ],
 "metadata": {
  "kernelspec": {
   "display_name": "Python 3",
   "language": "python",
   "name": "python3"
  },
  "language_info": {
   "codemirror_mode": {
    "name": "ipython",
    "version": 3
   },
   "file_extension": ".py",
   "mimetype": "text/x-python",
   "name": "python",
   "nbconvert_exporter": "python",
   "pygments_lexer": "ipython3",
   "version": "3.8.8"
  }
 },
 "nbformat": 4,
 "nbformat_minor": 5
}
