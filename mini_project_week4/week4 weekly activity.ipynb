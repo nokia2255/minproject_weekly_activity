{
 "cells": [
  {
   "cell_type": "markdown",
   "id": "e578090d",
   "metadata": {},
   "source": [
    "# Setup"
   ]
  },
  {
   "cell_type": "code",
   "execution_count": 74,
   "id": "95eb86d0",
   "metadata": {},
   "outputs": [
    {
     "data": {
      "text/plain": [
       "True"
      ]
     },
     "execution_count": 74,
     "metadata": {},
     "output_type": "execute_result"
    }
   ],
   "source": [
    "import sys\n",
    "# Python 3.7 is required\n",
    "assert sys.version_info >= (3,7)\n",
    "\n",
    "import cv2 as cv\n",
    "import numpy as np\n",
    "\n",
    "# For reproducibility,\n",
    "np.random.seed(99)\n",
    "\n",
    "# Make sure that optimization is enabled\n",
    "if not cv.useOptimized():\n",
    "    cv.setUseOptimized(True)\n",
    "\n",
    "cv.useOptimized()"
   ]
  },
  {
   "cell_type": "markdown",
   "id": "2c92b0c2",
   "metadata": {},
   "source": [
    "# Activity 1"
   ]
  },
  {
   "cell_type": "markdown",
   "id": "9b836aa1",
   "metadata": {},
   "source": [
    "# First way"
   ]
  },
  {
   "cell_type": "code",
   "execution_count": 75,
   "id": "de5c0869",
   "metadata": {},
   "outputs": [],
   "source": [
    "img = cv.imread('lena.jfif')    # default bgr \n",
    "img_grayscale = cv.imread('lena.jfif', 0)    # grayscale\n",
    "\n",
    "cv.imshow('original',img)\n",
    "cv.imshow('gray', img_grayscale)\n",
    "cv.waitKey(0)\n",
    "cv.destroyAllWindows()"
   ]
  },
  {
   "cell_type": "markdown",
   "id": "75ad7b4d",
   "metadata": {},
   "source": [
    "# Second way"
   ]
  },
  {
   "cell_type": "code",
   "execution_count": 76,
   "id": "08f003ff",
   "metadata": {},
   "outputs": [
    {
     "name": "stdout",
     "output_type": "stream",
     "text": [
      "(225, 225, 3) \t (225, 225, 3)\n"
     ]
    }
   ],
   "source": [
    "img = cv.imread('lena.jfif')    # default bgr \n",
    "img_grayscale = cv.imread('lena.jfif', 0)    # grayscale\n",
    "img_grayscale = cv.cvtColor(img_grayscale,cv.COLOR_GRAY2BGR)    #convert grayscale image into 3 dimensions\n",
    "\n",
    "print(img.shape, '\\t', img_grayscale.shape) # check shape of both images"
   ]
  },
  {
   "cell_type": "code",
   "execution_count": 77,
   "id": "541e609c",
   "metadata": {},
   "outputs": [],
   "source": [
    "img_combine = np.concatenate((img, img_grayscale), axis=0)     # concatenate images Vertically\n",
    "cv.imshow('VERTICAL', img_combine)\n",
    "cv.waitKey(0)\n",
    "cv.destroyAllWindows()"
   ]
  },
  {
   "cell_type": "markdown",
   "id": "061617df",
   "metadata": {},
   "source": [
    "# Activity 2"
   ]
  },
  {
   "cell_type": "code",
   "execution_count": 78,
   "id": "7a90ad34",
   "metadata": {},
   "outputs": [
    {
     "name": "stdout",
     "output_type": "stream",
     "text": [
      "Height: 1920, Width: 1080, Frames per second(FPS): 60.0\n"
     ]
    }
   ],
   "source": [
    "# Create a VideoCapture object\n",
    "cap = cv.VideoCapture('img_pexels.mp4')\n",
    "\n",
    "# get height and width from frame.shape\n",
    "ret, frame = cap.read()\n",
    "height, width, layers = frame.shape\n",
    "\n",
    "# get frame rate and print out width, height and frame rate\n",
    "fps = cap.get(cv.CAP_PROP_FPS)\n",
    "print (f\"Height: {height}, Width: {width}, Frames per second(FPS): {fps}\")"
   ]
  },
  {
   "cell_type": "code",
   "execution_count": 79,
   "id": "f8ed4362",
   "metadata": {},
   "outputs": [
    {
     "name": "stdout",
     "output_type": "stream",
     "text": [
      "Height: 384.0, Width: 360.0, Frames per second(FPS): 20\n"
     ]
    }
   ],
   "source": [
    "# Define the codec and create VideoWriter object\n",
    "fourcc = cv.VideoWriter_fourcc('M', 'J', 'P', 'G')\n",
    "\n",
    "# Change fps, height, width of video\n",
    "fps = 20    \n",
    "new_height = height / 5\n",
    "new_width = width / 3\n",
    "\n",
    "out = cv.VideoWriter('smaller_img_pexels.mp4', fourcc, fps, (int(new_width), int(new_height)))\n",
    "\n",
    "# Check if the object has been created successfully\n",
    "if not cap.isOpened():\n",
    "    print(\"Unable to create video\")\n",
    "\n",
    "# Read until the video is completed.\n",
    "while cap.isOpened():\n",
    "    ret, frame = cap.read()\n",
    "    \n",
    "    if ret == True:\n",
    "        new_frame = cv.resize(frame,(int(new_width),int(new_height)),fx = 0,fy = 0) #convert it to a new frame size\n",
    "        out.write(new_frame)\n",
    "    else:\n",
    "    # if frame is read then ret is True\n",
    "        print(\"Can't receive frame.\")\n",
    "        break\n",
    "    \n",
    "    cv.imshow('new frame', new_frame)\n",
    "    # Press Esc key to exit (27 is ASCII code for Esc). cv.waitKey() returns 32 bit integer values. You can find the ASCII table\n",
    "    # on this URL: https://theasciicode.com.ar/\n",
    "    if cv.waitKey(1) & 0xFF == 27:\n",
    "        break\n",
    "        \n",
    "# destroy the constructor\n",
    "cap.release()\n",
    "out.release()\n",
    "cv.destroyAllWindows()\n",
    "\n",
    "# Check New video's height, width, fps\n",
    "print (f\"Height: {new_height}, Width: {new_width}, Frames per second(FPS): {fps}\")"
   ]
  },
  {
   "cell_type": "markdown",
   "id": "7f1aa7d5",
   "metadata": {},
   "source": [
    "# Activity 3"
   ]
  },
  {
   "cell_type": "code",
   "execution_count": 80,
   "id": "d94dba5f",
   "metadata": {},
   "outputs": [],
   "source": [
    "# Create random noise image\n",
    "color_noise = np.random.randint(low = 0, high = 255, size= (400,400,3),dtype = np.uint8)\n",
    "cv.imshow(\"color noise\", color_noise)\n",
    "cv.waitKey(0)\n",
    "cv.destroyAllWindows()"
   ]
  },
  {
   "cell_type": "code",
   "execution_count": 81,
   "id": "e84341fb",
   "metadata": {},
   "outputs": [],
   "source": [
    "# Convert to grayscale image\n",
    "gray_noise = cv.cvtColor(color_noise,cv.COLOR_BGR2GRAY)\n",
    "\n",
    "cv.imshow(\"gray noise image\", gray_noise)\n",
    "cv.waitKey(0)\n",
    "cv.destroyAllWindows()"
   ]
  },
  {
   "cell_type": "markdown",
   "id": "98cc4bdb",
   "metadata": {},
   "source": [
    "### Extract the region of interest (flower) from the 'flower.jfif’."
   ]
  },
  {
   "cell_type": "code",
   "execution_count": 82,
   "id": "1a8fbaf1",
   "metadata": {},
   "outputs": [
    {
     "name": "stdout",
     "output_type": "stream",
     "text": [
      "(183, 275, 3)\n"
     ]
    }
   ],
   "source": [
    "img = cv.imread('flower.jfif')\n",
    "print (img.shape) #know the original size of image"
   ]
  },
  {
   "cell_type": "code",
   "execution_count": 83,
   "id": "060977fe",
   "metadata": {},
   "outputs": [],
   "source": [
    "#(40 - 120) height,(90, 175)\n",
    "flower = img[40:120,90:175]\n",
    "\n",
    "cv.imshow('flower',flower)\n",
    "cv.waitKey(0)\n",
    "cv.destroyAllWindows()"
   ]
  },
  {
   "cell_type": "code",
   "execution_count": 84,
   "id": "eb071ea3",
   "metadata": {},
   "outputs": [
    {
     "name": "stdout",
     "output_type": "stream",
     "text": [
      "(80, 85, 3)\n"
     ]
    }
   ],
   "source": [
    "print(flower.shape)"
   ]
  },
  {
   "attachments": {},
   "cell_type": "markdown",
   "id": "e8aed690",
   "metadata": {},
   "source": [
    "### Enlarge the image \"dog.jfif\""
   ]
  },
  {
   "cell_type": "code",
   "execution_count": 85,
   "id": "39863709",
   "metadata": {},
   "outputs": [],
   "source": [
    "# Enlarge image with different interpolation methods\n",
    "img = cv.imread(\"dog.jfif\")\n",
    "\n",
    "# Resize: linear,cubic and nearest\n",
    "img_large_linear = cv.resize(img, None, fx = 2.5, fy = 2.5, interpolation = cv.INTER_LINEAR)\n",
    "img_large_cubic = cv.resize(img, None, fx = 2.5, fy = 2.5, interpolation = cv.INTER_CUBIC)\n",
    "img_large_nearest = cv.resize(img, None, fx = 2.5, fy = 2.5, interpolation = cv.INTER_NEAREST)\n",
    "\n",
    "cv.imshow('linear',img_large_linear)\n",
    "cv.imshow('cubic',img_large_cubic)\n",
    "cv.imshow('nearest',img_large_nearest)\n",
    "cv.waitKey(0)\n",
    "cv.destroyAllWindows()"
   ]
  },
  {
   "cell_type": "markdown",
   "id": "c601d2a1",
   "metadata": {},
   "source": [
    "The image from nearest neighbor interpolation is more jagged on the boundary of object (dog)"
   ]
  }
 ],
 "metadata": {
  "kernelspec": {
   "display_name": "Python 3",
   "language": "python",
   "name": "python3"
  },
  "language_info": {
   "codemirror_mode": {
    "name": "ipython",
    "version": 3
   },
   "file_extension": ".py",
   "mimetype": "text/x-python",
   "name": "python",
   "nbconvert_exporter": "python",
   "pygments_lexer": "ipython3",
   "version": "3.8.8"
  }
 },
 "nbformat": 4,
 "nbformat_minor": 5
}
